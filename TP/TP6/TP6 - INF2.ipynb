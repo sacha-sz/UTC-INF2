{
 "cells": [
  {
   "cell_type": "markdown",
   "id": "54eec939",
   "metadata": {
    "pycharm": {
     "name": "#%% md\n"
    }
   },
   "source": [
    "# TP6 - INF2"
   ]
  },
  {
   "cell_type": "markdown",
   "id": "c0956056",
   "metadata": {
    "pycharm": {
     "name": "#%% md\n"
    }
   },
   "source": [
    "Pour ce TP nous allons expliqué la méthode que nous avons suivi.\n",
    "\n",
    "A savoir :\n",
    "+ préciser le fichier dans lequel nous ajoutons un élément\n",
    "+ écrire le code (contenant les explications)\n",
    "\n",
    "Nous avons également fait le choix de rendre toutes nos vues (url, lié aux vues) disponible sur la base (nous les avons également mis aux endroits adéquats : par exemple dans la page `edit_profile` nous avons les redirections vers `change_password` et `del_user`), afin d'en faciliter la correction. \n",
    "\n",
    "En pratique les vues suivantes ne serait pas accessible sur la base :\n",
    "+ `change_password`\n",
    "+ `del_user`\n"
   ]
  },
  {
   "cell_type": "markdown",
   "id": "e8a49a7a",
   "metadata": {
    "pycharm": {
     "name": "#%% md\n"
    }
   },
   "source": [
    "**La méthode que nous avons suivi tout au long de ce TP est la suivante :**\n",
    "\n",
    "Liste des étapes :\n",
    "\n",
    "+ étape 1 : créé le lien URL, dans `urls.py`\n",
    "+ étape 2 : créé le formulaire, si nécessaire dans `forms.py`\n",
    "+ étape 3 : modifié le fichier `models.py`, si nécessaire\n",
    "+ étape 4 : créé la vue associé dans `views.py`\n",
    "+ étape 5 : créé la page HTML, si nécessaire `templates` avec le format `nom_template.html`"
   ]
  },
  {
   "cell_type": "markdown",
   "id": "8d75f468",
   "metadata": {
    "pycharm": {
     "name": "#%% md\n"
    }
   },
   "source": [
    "## Partie 0 - Initialisation de l'environnement"
   ]
  },
  {
   "cell_type": "markdown",
   "id": "5005d676",
   "metadata": {
    "pycharm": {
     "name": "#%% md\n"
    }
   },
   "source": [
    "Nous avons suivi la méthode donné dans le pdf : \n",
    "\n",
    "**Étape 1 :**\n",
    "+ Récupérer depuis Moodle et dézipper les fichiers :\n",
    "    + djangoTP.zip .\n",
    "    + pyfhn.zip qui est une bibliothèque nécessaire.\n",
    "+ Sous PyCharm, ouvrir le projet djangoTP et ajouter les bibliothèques pandas,spicy et pyfhn avec python packages.\n",
    "+ Lancer le serveur Web : `python manage.py runserver`.\n",
    "+ Se rendre sur http://127.0.0.1:8000/. Si l’interface s’ouvre bien, vous pouvez passer à l’étape 2.\n",
    "\n",
    "\n",
    "\n",
    "**Étape 2 :**\n",
    "\n",
    "Pour pouvoir utiliser l’interface, il faut créer un superutilisateur qui sera sauvegardé dans la table « auth_user » de la base de données.\n",
    "Pour cela, tapez la commande :\n",
    "`python manage.py createsuperuser --username=joe --email=joe@example.com`\n",
    "Dès lors, vous pouvez vous authentifier sur l’interface et faire des simulations."
   ]
  },
  {
   "cell_type": "markdown",
   "id": "3b6f2dd5",
   "metadata": {
    "pycharm": {
     "name": "#%% md\n"
    }
   },
   "source": [
    "Nous avons créé un superuser du nom de joe, adresse mail : joe@example.com"
   ]
  },
  {
   "cell_type": "markdown",
   "id": "b0790be4",
   "metadata": {
    "pycharm": {
     "name": "#%% md\n"
    }
   },
   "source": [
    "## Partie 1 - Utilisateurs"
   ]
  },
  {
   "cell_type": "markdown",
   "id": "41df7289",
   "metadata": {
    "pycharm": {
     "name": "#%% md\n"
    }
   },
   "source": [
    "### QUESTION 1 : Mettre en place le formulaire de création d’un utilisateur, il faudra vérifier que le compte n’existe pas."
   ]
  },
  {
   "cell_type": "markdown",
   "id": "751343bc",
   "metadata": {
    "pycharm": {
     "name": "#%% md\n"
    }
   },
   "source": [
    "Etape 1 : création de l'URL"
   ]
  },
  {
   "cell_type": "code",
   "execution_count": null,
   "id": "c0095386",
   "metadata": {
    "pycharm": {
     "name": "#%%\n"
    }
   },
   "outputs": [],
   "source": [
    "url(r'^new_user/$', views.add_user, name='add_user')"
   ]
  },
  {
   "cell_type": "markdown",
   "id": "97774ac2",
   "metadata": {
    "pycharm": {
     "name": "#%% md\n"
    }
   },
   "source": [
    "Etape 2 : création du formulaire"
   ]
  },
  {
   "cell_type": "code",
   "execution_count": 1,
   "id": "97948210",
   "metadata": {
    "pycharm": {
     "name": "#%%\n"
    }
   },
   "outputs": [],
   "source": [
    "class Creation_Profil(UserCreationForm):\n",
    "    # Hérite de UserCreationForm\n",
    "    class Meta:\n",
    "        # Suit le modèle : User\n",
    "        model = User\n",
    "        # Choix des champs que nous voulons que l'utilisateur rentre pour son inscription\n",
    "        fields = [\"first_name\", \"last_name\", \"email\", \"username\", \"password1\", \"password2\"]\n",
    "\n",
    "    def email_disponible(self, email):\n",
    "        \"\"\"\n",
    "        Méthode permettant de vérifier que l'email est disponible\n",
    "        \"\"\"\n",
    "        liste = User.objects.filter(email=email)  # va lister tous les utilisateurs avec cette adresse mail\n",
    "        if not liste:  # Si la liste est vide, l'adresse mail n'est pas prise : retourne vrai (email disponible)\n",
    "            return True\n",
    "        return False  # Sinon retourne Faux (email non disponible)"
   ]
  },
  {
   "cell_type": "markdown",
   "id": "65ceec38",
   "metadata": {
    "pycharm": {
     "name": "#%% md\n"
    }
   },
   "source": [
    "Nous n'avons pas besoin de faire de modification des tables de la BDD. \n",
    "\n",
    "Nous passons directement à l'étape 4 : création de la vue"
   ]
  },
  {
   "cell_type": "code",
   "execution_count": null,
   "id": "db3a1c50",
   "metadata": {
    "pycharm": {
     "name": "#%%\n"
    }
   },
   "outputs": [],
   "source": [
    "@require_http_methods([\"GET\", \"POST\"])\n",
    "def add_user(request):\n",
    "    \"\"\"\n",
    "    Fonction permettant de créer un nouvel utilisateur\n",
    "    \"\"\"\n",
    "    # Valeurs booléennes pour le template\n",
    "    email_not_available = False\n",
    "    erreur = False\n",
    "\n",
    "    # Gestion du formulaire\n",
    "    if request.method == \"POST\":\n",
    "        # Initialisation du formulaire\n",
    "        form = Creation_Profil(request.POST)\n",
    "\n",
    "        # Test si le formulaire est correctement rempli et que l'email est de format correct\n",
    "        if form.is_valid() and form.cleaned_data[\"email\"]:\n",
    "\n",
    "            # Test si l'email est disponible (méthode créé dans le forms.py)\n",
    "            if form.email_disponible(request.POST[\"email\"]):\n",
    "                # Si tout est correct enregistre le formulaire dans la BDD\n",
    "                form.save()\n",
    "                # Et redirige l'utilisateur vers l'accueil\n",
    "                return redirect(\"/\")\n",
    "            else:\n",
    "                # Sinon changement de la valeur booléenne, modifiant l'affichage\n",
    "                email_not_available = True\n",
    "        else:\n",
    "            # Sinon changement de la valeur booléenne, modifiant l'affichage\n",
    "            erreur = True\n",
    "    else:\n",
    "        # Affiche le formulaire\n",
    "        form = Creation_Profil()\n",
    "    return render(request, \"new_profile.html\", {\"form\": form, \"email_not_available\": email_not_available, \"erreur\": erreur})"
   ]
  },
  {
   "cell_type": "markdown",
   "id": "6234f9a2",
   "metadata": {
    "pycharm": {
     "name": "#%% md\n"
    }
   },
   "source": [
    "Nous avons enfin écrit la page HTML, `new_profile.html` :"
   ]
  },
  {
   "cell_type": "code",
   "execution_count": null,
   "id": "64bbf0c7",
   "metadata": {
    "pycharm": {
     "name": "#%%\n"
    }
   },
   "outputs": [],
   "source": [
    "{% extends \"base.html\" %}\n",
    "{% block content %}\n",
    "{% if email_not_available %}<p style=\"color:red\">Un compte avec cette adresse mail existe déjà.</p>{% endif %}\n",
    "{% if erreur %}<p style=\"color:red\">Formulaire incorrect.</p>{% endif %}\n",
    "\n",
    "\n",
    "<h3>Nouvel utilisateur : </h3>\n",
    "<form action=\"{% url 'add_user' %}\" method=\"post\">\n",
    "    {% csrf_token %}\n",
    "    {{ form.as_p }}\n",
    "    <input type=\"submit\" value=\"S'inscrire\" />\n",
    "</form>\n",
    "\n",
    "{% endblock %}"
   ]
  },
  {
   "cell_type": "markdown",
   "id": "d49c6288",
   "metadata": {
    "pycharm": {
     "name": "#%% md\n"
    }
   },
   "source": [
    "### QUESTION 2 : Permettre à l’utilisateur de modifier son mot de passe."
   ]
  },
  {
   "cell_type": "markdown",
   "id": "cd67ae24",
   "metadata": {
    "pycharm": {
     "name": "#%% md\n"
    }
   },
   "source": [
    "Etape 1 : création de l'URL"
   ]
  },
  {
   "cell_type": "code",
   "execution_count": null,
   "id": "323d7a9b",
   "metadata": {
    "pycharm": {
     "name": "#%%\n"
    }
   },
   "outputs": [],
   "source": [
    "url(r'^change_password/$', views.change_password, name='change_password')"
   ]
  },
  {
   "cell_type": "markdown",
   "id": "a4660082",
   "metadata": {
    "pycharm": {
     "name": "#%% md\n"
    }
   },
   "source": [
    "Etape 2 : Création du formulaire"
   ]
  },
  {
   "cell_type": "code",
   "execution_count": null,
   "id": "f9f8fa58",
   "metadata": {
    "pycharm": {
     "name": "#%%\n"
    }
   },
   "outputs": [],
   "source": [
    "class Changer_MDP(PasswordChangeForm):\n",
    "    # Hérite de PasswordChangeForm\n",
    "    class Meta:\n",
    "        # Suit le modèle PasswordChangeForm\n",
    "        model = PasswordChangeForm\n",
    "        # Choix des champs : son ancien mot de passe, son nouveau mot de passe et sa confirmation\n",
    "        fields = ['password1', 'password2']"
   ]
  },
  {
   "cell_type": "markdown",
   "id": "b22409ca",
   "metadata": {
    "pycharm": {
     "name": "#%% md\n"
    }
   },
   "source": [
    "Comme précédemment nous n'avons pas à modifier le modele. \n",
    "\n",
    "Nous passons donc étape 4 : création de la vue"
   ]
  },
  {
   "cell_type": "code",
   "execution_count": null,
   "id": "30c1592b",
   "metadata": {
    "pycharm": {
     "name": "#%%\n"
    }
   },
   "outputs": [],
   "source": [
    "@login_required(login_url=\"/account/login/\")\n",
    "@require_http_methods([\"GET\", \"POST\"])\n",
    "def change_password(request):\n",
    "    \"\"\"\n",
    "    Fonction permettant de changer le mdp de l'utilisateur\n",
    "    \"\"\"\n",
    "    # Valeur booléenne pour le template\n",
    "    erreur_password = False\n",
    "\n",
    "    # Gestion du formulaire\n",
    "    if request.method == \"POST\":\n",
    "        form = Changer_MDP(request.user, data=request.POST)\n",
    "\n",
    "        # Test si le formulaire est valide\n",
    "        if form.is_valid():\n",
    "            # Si c'est le cas enregistre les modifications\n",
    "            form.save()\n",
    "            # Permet de garder l'utilisateur connecté\n",
    "            update_session_auth_hash(request, form.user)\n",
    "            # Redirige vers l'accueil\n",
    "            return redirect(\"/\")\n",
    "    else:\n",
    "        # Affiche le formulaire\n",
    "        form = Changer_MDP(request.user)\n",
    "    return render(request, \"change_password.html\", {\"form\": form, \"erreur_mdp\": erreur_password})"
   ]
  },
  {
   "cell_type": "markdown",
   "id": "dd899dfa",
   "metadata": {
    "pycharm": {
     "name": "#%% md\n"
    }
   },
   "source": [
    "Puis de sa page HTML, `change_password.html`:"
   ]
  },
  {
   "cell_type": "code",
   "execution_count": null,
   "id": "7484fa99",
   "metadata": {
    "pycharm": {
     "name": "#%%\n"
    }
   },
   "outputs": [],
   "source": [
    "{% extends \"base.html\" %}\n",
    "{% block content %}\n",
    "<h3>User: {{user.username}}</h3>\n",
    "<form action=\"{% url 'change_password' %}\" method=\"post\">\n",
    "    {% csrf_token %}\n",
    "    {{ form.as_p }}\n",
    "    <p><input type=\"submit\" value=\"Changer mot de passe\" /></p>\n",
    "    <p><a href=\"/profile\" class=\"btn btn-success\">Retour page : Profile</a></p>\n",
    "</form>\n",
    "\n",
    "{% endblock %}"
   ]
  },
  {
   "cell_type": "markdown",
   "id": "fe8bd3f1",
   "metadata": {
    "pycharm": {
     "name": "#%% md\n"
    }
   },
   "source": [
    "### QUESTION 3 : Permettre à l’utilisateur de supprimer son compte."
   ]
  },
  {
   "cell_type": "markdown",
   "id": "17b527b6",
   "metadata": {
    "pycharm": {
     "name": "#%% md\n"
    }
   },
   "source": [
    "Etape 1 : création de l'URL"
   ]
  },
  {
   "cell_type": "code",
   "execution_count": null,
   "id": "32f1ffe7",
   "metadata": {
    "pycharm": {
     "name": "#%%\n"
    }
   },
   "outputs": [],
   "source": [
    "url(r'^del_user/$', views.del_user, name='del_user')"
   ]
  },
  {
   "cell_type": "markdown",
   "id": "fb8f91d6",
   "metadata": {
    "pycharm": {
     "name": "#%% md\n"
    }
   },
   "source": [
    "Etape 2 : création du formulaire"
   ]
  },
  {
   "cell_type": "code",
   "execution_count": null,
   "id": "b7cbccd0",
   "metadata": {
    "pycharm": {
     "name": "#%%\n"
    }
   },
   "outputs": [],
   "source": [
    "class Supprimer_Profil(forms.Form):\n",
    "    texte_confirmation = forms.CharField(max_length=9,  # permet de fixer un nombre maximum de caractère\n",
    "                                         widget=forms.TextInput(),  # fixe le <widget\n",
    "                                         help_text=\"Si vous voulez supprimer le compte tapez : CONFIRMER\")  # permet d'afficher un texte d'aide"
   ]
  },
  {
   "cell_type": "markdown",
   "id": "3b80209e",
   "metadata": {
    "pycharm": {
     "name": "#%% md\n"
    }
   },
   "source": [
    "Etape 4 : (pas de modification de la BDD) création de la vue"
   ]
  },
  {
   "cell_type": "code",
   "execution_count": null,
   "id": "f3d91415",
   "metadata": {
    "pycharm": {
     "name": "#%%\n"
    }
   },
   "outputs": [],
   "source": [
    "@login_required(login_url=\"/account/login/\")\n",
    "@require_http_methods([\"GET\", \"POST\"])\n",
    "def del_user(request):\n",
    "    \"\"\"\n",
    "    Fonction permettant de changer le mdp de l'utilisateur\n",
    "    \"\"\"\n",
    "    # Valeur booléenne pour le template\n",
    "    erreur_saisie = False\n",
    "\n",
    "    # Gestion du formulaire\n",
    "    if request.method == \"POST\":\n",
    "        form = Supprimer_Profil(request.POST)\n",
    "\n",
    "        # Permet de tester si le formulaire est correct et que le texte entré est bien : CONFIRMER\n",
    "        if form.is_valid() and request.POST[\"texte_confirmation\"] == \"CONFIRMER\":\n",
    "            # Récupère l'utilisateur courant\n",
    "            current_user = User.objects.get(username=request.user.username)\n",
    "            # Le supprime de la BDD\n",
    "            current_user.delete()\n",
    "            # Redirige vers l'accueil\n",
    "            return redirect(\"/\")\n",
    "        else:\n",
    "            erreur_saisie = True\n",
    "    else:\n",
    "        # Affiche le formulaire\n",
    "        form = Supprimer_Profil()\n",
    "    return render(request, \"del_user.html\", {\"form\": form, \"erreur_saisie\": erreur_saisie})"
   ]
  },
  {
   "cell_type": "markdown",
   "id": "d3d1a42c",
   "metadata": {
    "pycharm": {
     "name": "#%% md\n"
    }
   },
   "source": [
    "Etape 5: création de la page HTML, `del_user.html`"
   ]
  },
  {
   "cell_type": "code",
   "execution_count": null,
   "id": "0779e7a8",
   "metadata": {
    "pycharm": {
     "name": "#%%\n"
    }
   },
   "outputs": [],
   "source": [
    "{% extends \"base.html\" %}\n",
    "{% block content %}\n",
    "<h3>User: {{user.username}}</h3>\n",
    "\n",
    "{% if erreur_saisie %}<p style=\"color:darkred\">Tapez le mot CONFIRMER, attention à la casse.</p>{% endif %}\n",
    "\n",
    "<form action=\"{% url 'del_user' %}\" method=\"post\">\n",
    "    {% csrf_token %}\n",
    "    {{ form.as_p }}\n",
    "    <p><input type=\"submit\" value=\"Suppression\" /></p>\n",
    "    <p><a href=\"/profile\" class=\"btn btn-success\">Retour page : Profile</a></p>\n",
    "</form>\n",
    "\n",
    "{% endblock %}"
   ]
  },
  {
   "cell_type": "markdown",
   "id": "1cebfa6a",
   "metadata": {
    "pycharm": {
     "name": "#%% md\n"
    }
   },
   "source": [
    "## Partie 2 - Simulations (supplémentaire)"
   ]
  },
  {
   "cell_type": "markdown",
   "id": "11365945",
   "metadata": {
    "pycharm": {
     "name": "#%% md\n"
    }
   },
   "source": [
    "### QUESTION 4 : Permettre à un utilisateur de partager une simulation avec un autre utilisateur."
   ]
  },
  {
   "cell_type": "markdown",
   "id": "a35d7141",
   "metadata": {
    "pycharm": {
     "name": "#%% md\n"
    }
   },
   "source": [
    "Etape 1 : création de l'URL"
   ]
  },
  {
   "cell_type": "code",
   "execution_count": null,
   "id": "e8a9788d",
   "metadata": {
    "pycharm": {
     "name": "#%%\n"
    }
   },
   "outputs": [],
   "source": [
    "url(r'^(?P<object_id>[0-9]+)/share_sim/$', views.simulation_share, name='share_sim')"
   ]
  },
  {
   "cell_type": "markdown",
   "id": "c44ca768",
   "metadata": {
    "pycharm": {
     "name": "#%% md\n"
    }
   },
   "source": [
    "Etape 2 : Création du formulaire"
   ]
  },
  {
   "cell_type": "code",
   "execution_count": null,
   "id": "6a8b44a7",
   "metadata": {
    "pycharm": {
     "name": "#%%\n"
    }
   },
   "outputs": [],
   "source": [
    "class Shared_Simulation(forms.ModelForm):\n",
    "    class Meta:\n",
    "        model = Partage_Simulation\n",
    "        fields = ['destinataire']"
   ]
  },
  {
   "cell_type": "markdown",
   "id": "3813ae6d",
   "metadata": {
    "pycharm": {
     "name": "#%% md\n"
    }
   },
   "source": [
    "Etape 3 : Modification de la BDD : création de la table `Partage_Simulation`:"
   ]
  },
  {
   "cell_type": "code",
   "execution_count": null,
   "id": "075864d9",
   "metadata": {
    "pycharm": {
     "name": "#%%\n"
    }
   },
   "outputs": [],
   "source": [
    "class Partage_Simulation(models.Model):\n",
    "    # Création de la table\n",
    "    \n",
    "    # Stocke les clés primaires de l'expéditeur, du destinataire et de la simulation\n",
    "    expediteur = models.ForeignKey(User, on_delete=models.CASCADE,  related_name=\"expediteur\", null=True)\n",
    "    destinataire = models.ForeignKey(User, on_delete=models.CASCADE, related_name=\"destinataire\", null=True)\n",
    "    simulation = models.ForeignKey(Simulation, on_delete=models.CASCADE, related_name=\"simulation_shared_id\", null=True)"
   ]
  },
  {
   "cell_type": "markdown",
   "id": "9b20600c",
   "metadata": {
    "pycharm": {
     "name": "#%% md\n"
    }
   },
   "source": [
    "Etape 4 : Création de la vue"
   ]
  },
  {
   "cell_type": "code",
   "execution_count": null,
   "id": "ec865cba",
   "metadata": {
    "pycharm": {
     "name": "#%%\n"
    }
   },
   "outputs": [],
   "source": [
    "@login_required(login_url=\"/account/login/\")\n",
    "@require_http_methods([\"GET\", \"POST\"])\n",
    "def simulation_share(request, object_id):\n",
    "    # Valeur booléenne pour le template\n",
    "    impossible_send = False\n",
    "\n",
    "    # Gestion du formulaire\n",
    "    if request.method == \"POST\":\n",
    "        form = Shared_Simulation(request.POST)\n",
    "\n",
    "        # Test si le formulaire est valide\n",
    "        if form.is_valid() and form.cleaned_data['destinataire']:\n",
    "            expediteur = request.user\n",
    "            destinataire = form.cleaned_data['destinataire']\n",
    "\n",
    "            # Test si le destinataire a déjà reçu la simulation ou si l'utilisateur partage la simulation a lui-même\n",
    "            if Partage_Simulation.objects.filter(destinataire=destinataire).exists() or expediteur == destinataire:\n",
    "                # Change la valeur du booléen\n",
    "                impossible_send = True\n",
    "            else:\n",
    "                # Récupère la simulation\n",
    "                sim = Simulation.objects.get(pk=object_id)\n",
    "                # L'ajoute à la BDD : Partage_Simulation et l'enregistre (.save())\n",
    "                Partage_Simulation(expediteur=expediteur, destinataire=destinataire, simulation=sim).save()\n",
    "                # Redirige vers la liste des simulations\n",
    "                return redirect(\"sim_list\")\n",
    "    else:\n",
    "        # Affiche le formulaire\n",
    "        form = Shared_Simulation()\n",
    "    return render(request, \"simulation_share.html\", {\"form\": form, \"impossible_send\": impossible_send})"
   ]
  },
  {
   "cell_type": "markdown",
   "id": "81631236",
   "metadata": {
    "pycharm": {
     "name": "#%% md\n"
    }
   },
   "source": [
    "Etape 5 : création de la page HTML, `simulation_share.html`:"
   ]
  },
  {
   "cell_type": "code",
   "execution_count": null,
   "id": "c37a99f4",
   "metadata": {
    "pycharm": {
     "name": "#%%\n"
    }
   },
   "outputs": [],
   "source": [
    "{% extends \"base.html\" %}\n",
    "{% block content %}\n",
    "<h3>Partage de simulation</h3>\n",
    "<form method=\"post\">\n",
    "    {% csrf_token %}\n",
    "    {% if impossible_send %}<p style=\"color:darkred\">Vous ne pouvez pas partager deux fois la simulation à la même personne, ou vous la partager.</p>{% endif %}\n",
    "    {{ form.as_p }}\n",
    "    <a href=\"/sim_list\" class=\"btn btn-success\">Retour page simulation</a>\n",
    "    <button type=\"submit\" class=\"btn btn-success\">Share</button>\n",
    "</form>\n",
    "{% endblock %}"
   ]
  },
  {
   "cell_type": "markdown",
   "id": "c4fdc159",
   "metadata": {
    "pycharm": {
     "name": "#%% md\n"
    }
   },
   "source": [
    "### Question 5 : Ajouter un système de favoris sur les simulations. Les simulations favoris se placeront en haut de la liste."
   ]
  },
  {
   "cell_type": "markdown",
   "id": "5bc7f1f9",
   "metadata": {
    "pycharm": {
     "name": "#%% md\n"
    }
   },
   "source": [
    "Etape 1 : création de l'URL"
   ]
  },
  {
   "cell_type": "code",
   "execution_count": null,
   "id": "a9d14421",
   "metadata": {
    "pycharm": {
     "name": "#%%\n"
    }
   },
   "outputs": [],
   "source": [
    "url(r'^(?P<object_id>[0-9]+)/fav_sim/$', views.simulation_fav, name='fav_sim')"
   ]
  },
  {
   "cell_type": "markdown",
   "id": "75b7be42",
   "metadata": {
    "pycharm": {
     "name": "#%% md\n"
    }
   },
   "source": [
    "Etape 3 : Modification de la BDD (nous n'avons pas de formulaire associé)"
   ]
  },
  {
   "cell_type": "code",
   "execution_count": null,
   "id": "be429ff1",
   "metadata": {
    "pycharm": {
     "name": "#%%\n"
    }
   },
   "outputs": [],
   "source": [
    "class Simulation(models.Model):\n",
    "    user_creator = models.ForeignKey(User, on_delete=models.PROTECT, related_name=\"user_id\")  # Changement du nom\n",
    "    date = models.DateTimeField(auto_now_add=True, auto_now=False)\n",
    "    alpha = models.FloatField(validators=[MinValueValidator(0.08), MaxValueValidator(0.12)],)\n",
    "    beta = models.FloatField(validators=[MinValueValidator(0.4), MaxValueValidator(0.6)],)\n",
    "    gamma = models.FloatField(validators=[MinValueValidator(0.04), MaxValueValidator(0.06)],)\n",
    "    delta = models.FloatField(validators=[MinValueValidator(0.008), MaxValueValidator(0.012)],)\n",
    "    epsilon = models.FloatField(validators=[MinValueValidator(0.08), MaxValueValidator(0.12)],)\n",
    "    is_favorite = models.BooleanField(default=False) # Ajout d'une valeur booléenne"
   ]
  },
  {
   "cell_type": "markdown",
   "id": "e84ab3cd",
   "metadata": {
    "pycharm": {
     "name": "#%% md\n"
    }
   },
   "source": [
    "Etape 4 : Création de la vue associée"
   ]
  },
  {
   "cell_type": "code",
   "execution_count": null,
   "id": "76b7fe5e",
   "metadata": {
    "pycharm": {
     "name": "#%%\n"
    }
   },
   "outputs": [],
   "source": [
    "@login_required(login_url=\"/account/login/\")\n",
    "@require_http_methods([\"GET\", \"POST\"])\n",
    "def simulation_fav(request, object_id):\n",
    "    \"\"\"\n",
    "    Vue permettant de modifier la valeur du booléen : is_favorite\n",
    "    \"\"\"\n",
    "    # Récupération de la simulation\n",
    "    sim = get_object_or_404(Simulation, pk=object_id)\n",
    "\n",
    "    # La modification va dépendre de son état actuel\n",
    "    if sim.is_favorite:\n",
    "        # Si la valeur est True nous la mettons à False\n",
    "        sim.is_favorite = False\n",
    "        # Puis nous enregistrons la modification\n",
    "        sim.save()\n",
    "    else:\n",
    "        # Si la valeur est False nous la mettons à True\n",
    "        sim.is_favorite = True\n",
    "        # Puis nous enregistrons la modification\n",
    "        sim.save()\n",
    "    return redirect(\"sim_list\")"
   ]
  },
  {
   "cell_type": "markdown",
   "id": "a8dc43fe",
   "metadata": {
    "pycharm": {
     "name": "#%% md\n"
    }
   },
   "source": [
    "Nous n'avons pas de page HTML, liée à cette option. La modification et l'affichage ne se fait que sur la page `simulation_list.html` que nous avons modifiée : "
   ]
  },
  {
   "cell_type": "code",
   "execution_count": null,
   "id": "ec37954e",
   "metadata": {
    "pycharm": {
     "name": "#%%\n"
    }
   },
   "outputs": [],
   "source": [
    "{% extends \"base.html\" %}\n",
    "{% block content %}\n",
    "{% csrf_token %}\n",
    "<h2>Simulations faites:</h2>\n",
    "<script type=\"text/javascript\">\n",
    "    $(document).on('click', '.confirm-delete', function(){\n",
    "        ;\n",
    "    })\n",
    "</script>\n",
    "<h3>Favoris :</h3>\n",
    "<ul>\n",
    "{% for sim in user_sims %}\n",
    "    {% if sim.is_favorite %}\n",
    "        <li>Créateur :{{sim.user_creator}}, Paramètres :[{{sim.alpha}},{{sim.beta}},{{sim.gamma}},{{sim.delta}},{{sim.epsilon}}]\n",
    "            <a href=\"{% url 'run_sim' sim.id %}\">Re-run</a>\n",
    "            <a href=\"{% url 'delete_sim' sim.id %}\">Delete</a>\n",
    "            <a href=\"{% url 'share_sim' sim.id %}\">Share</a>\n",
    "            <a href=\"{% url 'fav_sim' sim.id %}\">Unfav</a>\n",
    "        </li>\n",
    "    {% endif %}\n",
    "{% endfor %}\n",
    "</ul>\n",
    "\n",
    "<h3>Non favoris :</h3>\n",
    "<ul>\n",
    "{% for sim in user_sims %}\n",
    "    {% if not sim.is_favorite %}\n",
    "\n",
    "        <li>Créateur :{{sim.user_creator}}, Paramètres :[{{sim.alpha}},{{sim.beta}},{{sim.gamma}},{{sim.delta}},{{sim.epsilon}}]\n",
    "            <a href=\"{% url 'run_sim' sim.id %}\">Re-run</a>\n",
    "            <a href=\"{% url 'delete_sim' sim.id %}\">Delete</a>\n",
    "            <a href=\"{% url 'share_sim' sim.id %}\">Share</a>\n",
    "            <a href=\"{% url 'fav_sim' sim.id %}\">Fav</a>\n",
    "        </li>\n",
    "\n",
    "    {% endif %}\n",
    "{% endfor %}\n",
    "</ul>\n",
    "\n",
    "<h2>Simulations reçus:</h2>\n",
    "<script type=\"text/javascript\">\n",
    "    $(document).on('click', '.confirm-delete', function(){\n",
    "        ;\n",
    "    })\n",
    "</script>\n",
    "<ul>\n",
    "{% for sim in user_shared %}\n",
    "        <li>Créateur :{{sim.user_creator}}, Paramètres :[{{sim.alpha}},{{sim.beta}},{{sim.gamma}},{{sim.delta}},{{sim.epsilon}}]\n",
    "            <a href=\"{% url 'run_sim' sim.id %}\">Re-run</a>\n",
    "            <a href=\"{% url 'delete_sim' sim.id %}\">Delete</a>\n",
    "            <a href=\"{% url 'share_sim' sim.id %}\">Share</a>\n",
    "        </li>\n",
    "{% endfor %}\n",
    "{% endblock %}"
   ]
  },
  {
   "cell_type": "markdown",
   "id": "fed24b73",
   "metadata": {
    "pycharm": {
     "name": "#%% md\n"
    }
   },
   "source": [
    "## Vues que nous avons modifiées (autres que celles du dessus) : "
   ]
  },
  {
   "cell_type": "markdown",
   "id": "1fb55a53",
   "metadata": {
    "pycharm": {
     "name": "#%% md\n"
    }
   },
   "source": [
    "La vue permettant l'affichage des simulations. Nous lui avons ajouté les simulations reçues par l'utilisateur."
   ]
  },
  {
   "cell_type": "code",
   "execution_count": null,
   "id": "91955b71",
   "metadata": {
    "pycharm": {
     "name": "#%%\n"
    }
   },
   "outputs": [],
   "source": [
    "@login_required(login_url=\"/account/login/\")\n",
    "@require_http_methods([\"GET\", \"POST\"])\n",
    "def simulation_list(request):\n",
    "    \"\"\"\n",
    "    Vue permettant de lister l'ensemble des simulations liés à un utilisateur. A savoir celles qu'il a créé\n",
    "    (en favori ou non) et celles qu'on lui a partagé\n",
    "    \"\"\"\n",
    "    # Liste des simulations qu'il a créé\n",
    "    simulation_user = Simulation.objects.filter(user_creator=request.user)\n",
    "\n",
    "    # Liste des simulations qu'on lui a partagé\n",
    "    # Récupération sous forme de liste des id de simulation pour lesquelles sont id est dans la classe destinataire\n",
    "    shared_simulations_id = Partage_Simulation.objects.filter(destinataire=request.user).values_list('simulation')\n",
    "    shared_simulations_id = list(elt[0] for elt in shared_simulations_id)  # Récupération brute des valeurs\n",
    "    # Recherche dans la table de simulation des id des simulations\n",
    "    shared_simulations = Simulation.objects.filter(id__in=shared_simulations_id)\n",
    "\n",
    "    # Renvoie vers la page avec les deux listes\n",
    "    return render(request, \"simulation_list.html\", {\"user_sims\": simulation_user, \"user_shared\": shared_simulations})"
   ]
  },
  {
   "cell_type": "markdown",
   "id": "ff849aa4",
   "metadata": {
    "pycharm": {
     "name": "#%% md\n"
    }
   },
   "source": [
    "La vue permettant la modification du profil afin d'éviter l'erreur adresse mail déjà utilisé, si l'utilisateur ne la change pas."
   ]
  },
  {
   "cell_type": "code",
   "execution_count": null,
   "id": "d8df0ac5",
   "metadata": {
    "pycharm": {
     "name": "#%%\n"
    }
   },
   "outputs": [],
   "source": [
    "@login_required(login_url=\"/account/login/\")\n",
    "@require_http_methods([\"GET\", \"POST\"])\n",
    "def edit_profile(request):\n",
    "    \"\"\"\n",
    "    Vue permettant d'éditer les champs : first_name; last_name et email\n",
    "    \"\"\"\n",
    "    # Valeurs booléennes pour le template\n",
    "    envoi = False\n",
    "    erreur_email = False\n",
    "\n",
    "    # Gestion du formulaire\n",
    "    if request.method == \"POST\":\n",
    "        # Initialisation du formulaire\n",
    "        user_profile_form = UserProfileForm(request.POST)\n",
    "        # Récupération de l'utilisateur courant\n",
    "        current_user = User.objects.get(username=request.user.username)\n",
    "\n",
    "        # Test si le formulaire est correctement rempli\n",
    "        if user_profile_form.is_valid() and user_profile_form.cleaned_data[\"email\"]:\n",
    "\n",
    "            # Test si l'utilisateur a changé ou non son adresse mail\n",
    "            if current_user.email == request.POST[\"email\"]:\n",
    "                # Mise à jour des champs de l'utilisateur courant, s'il ne change pas son adresse mail\n",
    "                current_user.first_name = user_profile_form.cleaned_data[\"first_name\"]\n",
    "                current_user.last_name = user_profile_form.cleaned_data[\"last_name\"]\n",
    "                # Sauvegarde dans la base de données\n",
    "                current_user.save()\n",
    "                # Changement de la valeur booléenne\n",
    "                envoi = True\n",
    "\n",
    "            # Sinon teste si l'email est disponible (méthode créé dans le forms.py)\n",
    "            elif user_profile_form.email_disponible(user_profile_form.cleaned_data[\"email\"]):\n",
    "                # Mise à jour des champs de l'utilisateur courant, s'il change son adresse mai\n",
    "                current_user.first_name = user_profile_form.cleaned_data[\"first_name\"]\n",
    "                current_user.last_name = user_profile_form.cleaned_data[\"last_name\"]\n",
    "                current_user.email = user_profile_form.cleaned_data[\"email\"]\n",
    "                # Sauvegarde dans la base de données\n",
    "                current_user.save()\n",
    "                # Changement de la valeur booléenne\n",
    "                envoi = True\n",
    "\n",
    "            # Sinon change la valeur booléenne permettant un affichage dynamique de l'erreur d'adresse mail\n",
    "            else:\n",
    "                erreur_email = True\n",
    "    else:\n",
    "        # Affiche le formulaire pré-rempli\n",
    "        user_profile_form = UserProfileForm(instance=request.user)\n",
    "    return render(request, \"edit_profile.html\", {\"form\": user_profile_form, \"envoi\":envoi, \"erreur_email\":erreur_email})"
   ]
  },
  {
   "cell_type": "markdown",
   "id": "6e050f69",
   "metadata": {
    "pycharm": {
     "name": "#%% md\n"
    }
   },
   "source": [
    "Et le formulaire associé. "
   ]
  },
  {
   "cell_type": "code",
   "execution_count": null,
   "id": "1b7f49fe",
   "metadata": {
    "pycharm": {
     "name": "#%%\n"
    }
   },
   "outputs": [],
   "source": [
    "class UserProfileForm(forms.ModelForm):\n",
    "    class Meta:\n",
    "        model = User\n",
    "        fields = ['first_name', 'last_name', 'email']\n",
    "\n",
    "    def email_disponible(self, email):\n",
    "        liste = User.objects.filter(email=email)  # va lister tous les utilisateurs avec cette adresse mail\n",
    "        if not liste:  # Si la liste est vide, l'adresse mail n'est pas prise : retourne vrai (email disponible)\n",
    "            return True\n",
    "        return False  # Sinon retourne Faux (email non disponible)"
   ]
  },
  {
   "cell_type": "markdown",
   "id": "9466aeec",
   "metadata": {
    "pycharm": {
     "name": "#%% md\n"
    }
   },
   "source": [
    "Le formulaire associé à la création de simulation (nous lui avons enlever l'attribut user. L'utilisateur ne peut lancer des simulations que pour lui."
   ]
  },
  {
   "cell_type": "code",
   "execution_count": null,
   "id": "80b756b9",
   "metadata": {
    "pycharm": {
     "name": "#%%\n"
    }
   },
   "outputs": [],
   "source": [
    "class SimuForm(forms.ModelForm):\n",
    "    class Meta:\n",
    "        model = Simulation\n",
    "        fields = ['alpha', 'beta', 'gamma', 'delta', 'epsilon']"
   ]
  },
  {
   "cell_type": "markdown",
   "id": "4b63fae0",
   "metadata": {
    "pycharm": {
     "name": "#%% md\n"
    }
   },
   "source": [
    "Et les vues associées."
   ]
  },
  {
   "cell_type": "code",
   "execution_count": null,
   "id": "7a5674d5",
   "metadata": {
    "pycharm": {
     "name": "#%%\n"
    }
   },
   "outputs": [],
   "source": [
    "@login_required(login_url=\"/account/login/\")\n",
    "@require_http_methods([\"GET\", \"POST\"])\n",
    "def new_simu(request):\n",
    "    \"\"\"\n",
    "    Construire le formulaire, soit avec les données postées, soit vide si l'utilisateur accède pour la première fois\n",
    "    à la page.\n",
    "    \"\"\"\n",
    "    form = SimuForm(request.POST, request.FILES)\n",
    "\n",
    "    # Si le formulaire est valide\n",
    "    if form.is_valid():\n",
    "        params = form.cleaned_data\n",
    "        print(params)\n",
    "        # Création de la simulation\n",
    "        newsim = Simulation.objects.create(\n",
    "            user_creator=request.user,\n",
    "            alpha=params[\"alpha\"],\n",
    "            beta=params[\"beta\"],\n",
    "            gamma=params[\"gamma\"],\n",
    "            delta=params[\"delta\"],\n",
    "            epsilon=params[\"epsilon\"],\n",
    "        )\n",
    "        # Sauvegarde dans la base de données\n",
    "        newsim.save()\n",
    "        # Lance la simulation en appelant la fonction run_sim\n",
    "        return run_sim(request, newsim.id)\n",
    "    return render(request, \"newsimu.html\", locals())\n",
    "\n",
    "\n",
    "\n",
    "@require_http_methods([\"GET\", \"POST\"])\n",
    "def run_sim(request, object_id):\n",
    "    \"\"\"\n",
    "    Effectue la simulation puis la retourne vers le template\n",
    "    \"\"\"\n",
    "    # Récupération des informations de la simulation\n",
    "    params = model_to_dict(get_object_or_404(Simulation, pk=object_id))\n",
    "\n",
    "    # Suppression des paramètres inutiles pour le calcul\n",
    "    # A savoir : username (user_creator), id de la simulation et is_favorite\n",
    "    params.pop(\"user_creator\")\n",
    "    params.pop(\"id\")\n",
    "    params.pop(\"is_favorite\")\n",
    "\n",
    "    # Récupération des dernières informations : alpha, beta, delta, gamma, epsilon\n",
    "    res = run_fhn_base(params)\n",
    "\n",
    "    # Mise en page de la simulation\n",
    "    f = plt.figure()\n",
    "    plt.title(\"FHN Simulation\")\n",
    "    plt.xlabel(\"Time\")\n",
    "    plt.ylabel(\"Outputs\")\n",
    "    plot = plt.plot(res[\"t\"], res[\"y\"][0], res[\"t\"], res[\"y\"][1])\n",
    "    plt.legend([\"v\", \"w\"])\n",
    "    imgdata = StringIO()\n",
    "    f.savefig(imgdata, format=\"svg\")\n",
    "    imgdata.seek(0)\n",
    "\n",
    "    # data contenant le graphique\n",
    "    data = imgdata.getvalue()\n",
    "    return render(request, \"graphic.html\", {\"graphic\": data})"
   ]
  },
  {
   "cell_type": "markdown",
   "id": "93a5809b",
   "metadata": {
    "pycharm": {
     "name": "#%% md\n"
    }
   },
   "source": [
    "De même nous avons modifié la vue permettant la suppression d'une simulation (en fonction de si l'utilisateur en est l'auteur ou non)."
   ]
  },
  {
   "cell_type": "code",
   "execution_count": null,
   "id": "f1252531",
   "metadata": {
    "pycharm": {
     "name": "#%%\n"
    }
   },
   "outputs": [],
   "source": [
    "@login_required(login_url=\"/login/\")\n",
    "@require_http_methods([\"GET\", \"POST\"])\n",
    "def simulation_delete(request, object_id):\n",
    "    \"\"\"\n",
    "    Lié à la vue de sim_list, nous pouvons supprimer une simulation de la liste de l'utilisateur\n",
    "    \"\"\"\n",
    "    # Récupération de la simulation\n",
    "    sim = get_object_or_404(Simulation, pk=object_id)\n",
    "\n",
    "    # La suppression de la simulation va dépendre de son auteur\n",
    "    if request.user == sim.user_creator:\n",
    "        # Si l'utilisateur est à l'origine de cette simulation, elle va être totalement supprimé\n",
    "        sim.delete()\n",
    "    else:\n",
    "        # Sinon la simulation lui a été partagé et nous ne la supprimons que de la table de simulation\n",
    "        # Ainsi elle sera toujours présente pour son auteur ou les autres personnes l'ayant reçu\n",
    "        share_sim = Partage_Simulation.objects.filter(destinataire=request.user, simulation=object_id)\n",
    "        share_sim.delete()\n",
    "    return HttpResponseRedirect(reverse_lazy(\"sim_list\"))"
   ]
  },
  {
   "cell_type": "markdown",
   "id": "21cecef4",
   "metadata": {
    "pycharm": {
     "name": "#%% md\n"
    }
   },
   "source": [
    "# Page HTML que nous avons modifiées (autres que celles de l'exercice)"
   ]
  },
  {
   "cell_type": "markdown",
   "id": "d8a9fb5b",
   "metadata": {
    "pycharm": {
     "name": "#%% md\n"
    }
   },
   "source": [
    "Celle de login :"
   ]
  },
  {
   "cell_type": "code",
   "execution_count": null,
   "id": "c8d838fb",
   "metadata": {
    "pycharm": {
     "name": "#%%\n"
    }
   },
   "outputs": [],
   "source": [
    "{% extends 'base.html' %}\n",
    "\n",
    "{% block title %}Connexion{% endblock %}\n",
    "\n",
    "{% block content %}\n",
    "    <h2>Connexion :</h2>\n",
    "    <form method=\"post\">\n",
    "        {% csrf_token %}\n",
    "        {{ form.as_p }}\n",
    "\n",
    "    <p><a class=\"button button-primary\" href=\"/new_user\">Inscription</a></p>\n",
    "    <p><button type=\"submit\">Envoyer</button></p>\n",
    "    </form>\n",
    "{% endblock %}"
   ]
  },
  {
   "cell_type": "markdown",
   "id": "a92a7e9a",
   "metadata": {
    "pycharm": {
     "name": "#%% md\n"
    }
   },
   "source": [
    "Celle de logout"
   ]
  },
  {
   "cell_type": "code",
   "execution_count": null,
   "id": "b6167b95",
   "metadata": {
    "pycharm": {
     "name": "#%%\n"
    }
   },
   "outputs": [],
   "source": [
    "{% extends \"base.html\" %}\n",
    "{% block content %}\n",
    "{% include \"django_pam/accounts/_logout.html\" %}\n",
    "{% endblock %}"
   ]
  },
  {
   "cell_type": "markdown",
   "id": "662e53b9",
   "metadata": {
    "pycharm": {
     "name": "#%% md\n"
    }
   },
   "source": [
    "De même nous avons rajouté ces deux lignes dans le fichier `settings.py`:"
   ]
  },
  {
   "cell_type": "code",
   "execution_count": null,
   "id": "8767aa3f",
   "metadata": {
    "pycharm": {
     "name": "#%%\n"
    }
   },
   "outputs": [],
   "source": [
    "LOGIN_REDIRECT_URL = '/'\n",
    "LOGOUT_REDIRECT_URL = '/'"
   ]
  },
  {
   "cell_type": "markdown",
   "id": "18bbecc3",
   "metadata": {
    "pycharm": {
     "name": "#%% md\n"
    }
   },
   "source": [
    "Celle de la base :"
   ]
  },
  {
   "cell_type": "code",
   "execution_count": null,
   "id": "5c4c9c8d",
   "metadata": {
    "pycharm": {
     "name": "#%%\n"
    }
   },
   "outputs": [],
   "source": [
    "{% load static %}\n",
    "<!DOCTYPE html>\n",
    "<html lang=\"fr\">\n",
    "<body>\n",
    "<header></header>\n",
    "    <div class=\"header\">\n",
    "       {% block nav %}\n",
    "       <a class=\"button button-primary\" href=\"/\">Accueil</a>\n",
    "       <a class=\"button button-primary\" href=\"/profile/\">Profile</a>\n",
    "       <a class=\"button button-primary\" href=\"/change_password/\">Change Password</a>\n",
    "       <a class=\"button button-primary\" href=\"/del_user/\">Delete user</a>\n",
    "       <a class=\"button button-primary\" href=\"/new_user/\">Add user</a>\n",
    "       <a class=\"button button-primary\" href=\"/sim_list/\">Simulations</a>\n",
    "       <a class=\"button button-primary\" href=\"/newsimu/\">New Simulation</a>\n",
    "       {% endblock %}\n",
    "   </div>\n",
    "\n",
    "   <section id=\"content\" class=\"container\">\n",
    "       {% block content %}\n",
    "           {% if user.is_authenticated %}\n",
    "                Bonjour: {{ user.username }} !\n",
    "                <p><a href=\"{% url 'logout' %}\">Déconnexion</a></p>\n",
    "            {% else %}\n",
    "               <p>Vous n'êtes pas connecté.</p>\n",
    "                <a href=\"{% url 'login' %}\">Connexion</a>\n",
    "            {% endif %}\n",
    "       {% endblock %}\n",
    "   </section>\n",
    "\n",
    "<footer class=\"footer\"><div class=\"row\">\n",
    "    <div class=\"two-thirds column\">Date :{% block Date %} {% now \"d/m/Y\" %} {% endblock %} </div>\n",
    "    <div class=\"two-thirds column\">Heure :{% block Hours %} {% now \"H:i\" %} {% endblock %} </div>\n",
    "    <div class=\"one-third column\">INF2 TP6</div>\n",
    "    <div class=\"one-third column\">Auteurs : XXXX YYYY</div>\n",
    "  </div></footer>\n",
    "</body>\n",
    "</html>"
   ]
  },
  {
   "cell_type": "markdown",
   "id": "ac1605d5",
   "metadata": {
    "pycharm": {
     "name": "#%% md\n"
    }
   },
   "source": [
    "Celle de la page edit_profile"
   ]
  },
  {
   "cell_type": "code",
   "execution_count": null,
   "id": "fe7e7612",
   "metadata": {
    "pycharm": {
     "name": "#%%\n"
    }
   },
   "outputs": [],
   "source": [
    "{% extends \"base.html\" %}\n",
    "{% block content %}\n",
    "<h3>User: {{user.username}}</h3>\n",
    "\n",
    "<p>Renseignez vos informations personnelles ci-dessous.</p>\n",
    "{%if erreur_email%}<p style=\"color:darkred\"> Erreur email.</p>{%endif%}\n",
    "<form action=\"{% url 'profile' %}\" method=\"post\">\n",
    "    {% csrf_token %}\n",
    "    {{ form.as_p }}\n",
    "\n",
    "{%if envoi%}<p style=\"color:darkgreen\"> Données mises à jour.</p>{%endif%}\n",
    "\n",
    "<p><a href=\"/change_password\" class=\"btn btn-success\">Change Password</a></p>\n",
    "<p><a href=\"/del_user\" class=\"btn btn-success\">Supprimer compte</a></p>\n",
    "<input type=\"submit\" value=\"Edit informations\" /></form>\n",
    "{% endblock %}"
   ]
  },
  {
   "cell_type": "markdown",
   "id": "c93cfdae",
   "metadata": {
    "pycharm": {
     "name": "#%% md\n"
    }
   },
   "source": [
    "Celle de la page new_simu"
   ]
  },
  {
   "cell_type": "code",
   "execution_count": null,
   "id": "eb835879",
   "metadata": {
    "pycharm": {
     "name": "#%%\n"
    }
   },
   "outputs": [],
   "source": [
    "{% extends \"base.html\" %}\n",
    "{% block content %}\n",
    "<h3>User: {{user.username}}</h3>\n",
    "<form action=\"{% url 'newsimu' %}\" method=\"post\" enctype=\"multipart/form-data\">\n",
    "    {% csrf_token %}\n",
    "    {{ form.as_p }}\n",
    "    <input type=\"submit\" value=\"Run Simulation\" />\n",
    "</form>\n",
    "{% if envoi %}Your simulation has been added to the queue !{% endif %}\n",
    "{% endblock %}"
   ]
  },
  {
   "cell_type": "markdown",
   "id": "52f8af07",
   "metadata": {
    "pycharm": {
     "name": "#%% md\n"
    }
   },
   "source": [
    "Celle de la page résultat de la simulation"
   ]
  },
  {
   "cell_type": "code",
   "execution_count": null,
   "id": "0d7e0f30",
   "metadata": {
    "pycharm": {
     "name": "#%%\n"
    }
   },
   "outputs": [],
   "source": [
    "{% extends \"base.html\" %}\n",
    "{% block content %}\n",
    "<p>\n",
    "    <h3>Résultat simulation : </h3>\n",
    "    {{graphic|safe}}\n",
    "    <a href=\"{% url 'sim_list' %}\" class=\"btn btn-dark\">Retour liste</a>\n",
    "</p>\n",
    "{% endblock %}"
   ]
  },
  {
   "cell_type": "markdown",
   "id": "8d2a7289",
   "metadata": {
    "pycharm": {
     "name": "#%% md\n"
    }
   },
   "source": [
    "### Nous avons modifé le fichier `settings.py`"
   ]
  },
  {
   "cell_type": "code",
   "execution_count": null,
   "id": "1d8bc2f3",
   "metadata": {
    "pycharm": {
     "name": "#%%\n"
    }
   },
   "outputs": [],
   "source": [
    "LOGIN_REDIRECT_URL = '/'\n",
    "LOGOUT_REDIRECT_URL = '/'\n",
    "\n",
    "AUTH_PASSWORD_VALIDATORS = [\n",
    "    {\n",
    "        'NAME': 'django.contrib.auth.password_validation.UserAttributeSimilarityValidator',\n",
    "    },\n",
    "    {\n",
    "        'NAME': 'django.contrib.auth.password_validation.MinimumLengthValidator',\n",
    "        'OPTIONS': {\n",
    "            'min_length': 8,\n",
    "        }\n",
    "    },\n",
    "    {\n",
    "        'NAME': 'django.contrib.auth.password_validation.CommonPasswordValidator',\n",
    "    },\n",
    "    {\n",
    "        'NAME': 'django.contrib.auth.password_validation.NumericPasswordValidator',\n",
    "    },\n",
    "]\n",
    "\n",
    "LANGUAGE_CODE = 'fr-FR'\n",
    "\n",
    "TIME_ZONE = 'Europe/Paris'"
   ]
  }
 ],
 "metadata": {
  "kernelspec": {
   "display_name": "Python 3 (ipykernel)",
   "language": "python",
   "name": "python3"
  },
  "language_info": {
   "codemirror_mode": {
    "name": "ipython",
    "version": 3
   },
   "file_extension": ".py",
   "mimetype": "text/x-python",
   "name": "python",
   "nbconvert_exporter": "python",
   "pygments_lexer": "ipython3",
   "version": "3.9.13"
  }
 },
 "nbformat": 4,
 "nbformat_minor": 5
}
