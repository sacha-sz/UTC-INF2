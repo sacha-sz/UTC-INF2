{
 "cells": [
  {
   "cell_type": "markdown",
   "id": "88c52560",
   "metadata": {},
   "source": [
    "# TP1 - INF2"
   ]
  },
  {
   "cell_type": "markdown",
   "id": "42337606",
   "metadata": {},
   "source": [
    "### Q1 - Ecrire un programme qui calcule la surface d’un cercle en fonction de la saisie du rayon."
   ]
  },
  {
   "cell_type": "markdown",
   "id": "dd4afd43",
   "metadata": {},
   "source": [
    "Pour répondre à cette question j'ai utilisé:\n",
    "+ l'importation du module math afin d'utiliser PI (math.pi)\n",
    "+ la fonction surface ayant comme paramètre le rayon et retournant la valeur de la surface\n",
    "+ un affichage simplifier du nombre de décimal de la surface"
   ]
  },
  {
   "cell_type": "code",
   "execution_count": 1,
   "id": "0b6aa184",
   "metadata": {},
   "outputs": [
    {
     "name": "stdout",
     "output_type": "stream",
     "text": [
      "Entrez le rayon du cercle : 5\n",
      "La surface d'un cercle de rayon 5.0 est de : 15.7080\n"
     ]
    }
   ],
   "source": [
    "import math\n",
    "\n",
    "\n",
    "def surface(r):\n",
    "    return math.pi * r\n",
    "\n",
    "\n",
    "if __name__ == \"__main__\":\n",
    "    rayon = float(input(\"Entrez le rayon du cercle : \"))\n",
    "    surface_cercle = surface(rayon)\n",
    "    print(f\"La surface d'un cercle de rayon {rayon} est de : {surface_cercle:.4f}\")"
   ]
  },
  {
   "cell_type": "markdown",
   "id": "6707d39c",
   "metadata": {},
   "source": [
    "Voici mon test (chaque puce correspond à une ligne de code):"
   ]
  },
  {
   "cell_type": "markdown",
   "id": "3c231171",
   "metadata": {},
   "source": [
    "+ Entrez le rayon du cercle : 5\n",
    "+ La surface d'un cercle de rayon 5.0 est de : 15.7080"
   ]
  },
  {
   "cell_type": "markdown",
   "id": "c5576df1",
   "metadata": {},
   "source": [
    "### Q2 - Ecrire un programme qui demande deux nombres à l’utilisateur et l’informe ensuite si leur produit est négatif ou positif."
   ]
  },
  {
   "cell_type": "markdown",
   "id": "08bf0175",
   "metadata": {},
   "source": [
    "Pour répondre à cette question j'ai utilisé:\n",
    "+ la fonction produit (testant si le produit est positif ou (négatif ou nul)) ayant comme paramètre les deux nombres et retournant un booléen\n",
    "+ un affichage dynamique en fonction de si le produit est positif ou non (négatif ou nul)"
   ]
  },
  {
   "cell_type": "code",
   "execution_count": 4,
   "id": "5fb7f75d",
   "metadata": {},
   "outputs": [
    {
     "name": "stdout",
     "output_type": "stream",
     "text": [
      "Entrez le premier nombre : -3\n",
      "Entrez le second nombre : 5\n",
      "Le produit de -3.0 et 5.0 est négatif et vaut -15.0.\n"
     ]
    }
   ],
   "source": [
    "def produit(x1, x2):\n",
    "    if (x1*x2) > 0:\n",
    "        return True\n",
    "    else:\n",
    "        return False\n",
    "\n",
    "\n",
    "if __name__ == '__main__':\n",
    "    premier_nombre = float(input(\"Entrez le premier nombre : \"))\n",
    "    second_nombre = float(input(\"Entrez le second nombre : \"))\n",
    "    if produit(premier_nombre, second_nombre):\n",
    "        print(f\"Le produit de {premier_nombre} et {second_nombre} est positif et vaut {premier_nombre*second_nombre}.\")\n",
    "    else:\n",
    "        print(f\"Le produit de {premier_nombre} et {second_nombre} est négatif et vaut {premier_nombre*second_nombre}.\")"
   ]
  },
  {
   "cell_type": "markdown",
   "id": "62ec06b6",
   "metadata": {},
   "source": [
    "Voici mon test (chaque puce correspond à une ligne de code):"
   ]
  },
  {
   "cell_type": "markdown",
   "id": "82438f69",
   "metadata": {},
   "source": [
    "+ Entrez le premier nombre : -3\n",
    "+ Entrez le second nombre : 5\n",
    "+ Le produit de -3.0 et 5.0 est négatif et vaut -15.0."
   ]
  },
  {
   "cell_type": "markdown",
   "id": "db8846ee",
   "metadata": {},
   "source": [
    "### Q3 - Ecrire un programme qui calcule son factoriel en fonction d’un entier"
   ]
  },
  {
   "cell_type": "markdown",
   "id": "aa599426",
   "metadata": {},
   "source": [
    "Pour répondre à cette question j'ai utilisé:\n",
    "+ la fonction factoriel (de manière récursive) ayant comme paramètre le nombre choisi par l'utilisateur et retournant la factoriel de ce nombre"
   ]
  },
  {
   "cell_type": "code",
   "execution_count": 5,
   "id": "5ea550d5",
   "metadata": {},
   "outputs": [
    {
     "name": "stdout",
     "output_type": "stream",
     "text": [
      "Entrez un nombre entier : 6\n",
      "Le factoriel de l'entier 6 est : 720\n"
     ]
    }
   ],
   "source": [
    "def factoriel(n):\n",
    "    if n == 0:\n",
    "        return 1\n",
    "    else:\n",
    "        return n * factoriel(n-1)\n",
    "\n",
    "\n",
    "if __name__ == \"__main__\":\n",
    "    test = int(input(\"Entrez un nombre entier : \"))\n",
    "    print(f\"Le factoriel de l'entier {test} est : {factoriel(test)}\")"
   ]
  },
  {
   "cell_type": "markdown",
   "id": "72bfbd5b",
   "metadata": {},
   "source": [
    "Voici mon test (chaque puce correspond à une ligne de code):"
   ]
  },
  {
   "cell_type": "markdown",
   "id": "f9fa4738",
   "metadata": {},
   "source": [
    "+ Entrez un nombre entier : 6\n",
    "+ Le factoriel de l'entier 6 est : 720\n"
   ]
  },
  {
   "cell_type": "markdown",
   "id": "3d23e2a5",
   "metadata": {},
   "source": [
    "### Q4 - Une année est bissextile si elle est divisible par 4 mais non divisible par 100. Les années divisibles par 400 sont également bissextiles."
   ]
  },
  {
   "cell_type": "markdown",
   "id": "4bb311e6",
   "metadata": {},
   "source": [
    "Pour répondre à cette question j'ai utilisé:\n",
    "+ la fonction bissex ayant comme paramètre l'année et retournant un booléen\n",
    "+ un affichage dynamique en fonction de si l'année est bissextile ou non"
   ]
  },
  {
   "cell_type": "code",
   "execution_count": 6,
   "id": "42545ec4",
   "metadata": {},
   "outputs": [
    {
     "name": "stdout",
     "output_type": "stream",
     "text": [
      "Entrez une année  : 2020\n",
      "L'année est bissextile.\n"
     ]
    }
   ],
   "source": [
    "def bissex(annee):\n",
    "    if annee % 4 == 0 and annee % 100 != 0:\n",
    "        return True\n",
    "    elif annee % 400 == 0:\n",
    "        return True\n",
    "    else:\n",
    "        return False\n",
    "\n",
    "\n",
    "if __name__ == \"__main__\":\n",
    "    annee = int(input(\"Entrez une année  : \"))\n",
    "    if bissex(annee):\n",
    "        print(\"L'année est bissextile.\")\n",
    "    else:\n",
    "        print(\"L'année n'est pas bissextile.\")"
   ]
  },
  {
   "cell_type": "markdown",
   "id": "2273188b",
   "metadata": {},
   "source": [
    "Voici mon test (chaque puce correspond à une ligne de code):"
   ]
  },
  {
   "cell_type": "markdown",
   "id": "d2fc8e8e",
   "metadata": {},
   "source": [
    "+ Entrez une année  : 2020\n",
    "+ L'année est bissextile."
   ]
  },
  {
   "cell_type": "markdown",
   "id": "662e5228",
   "metadata": {},
   "source": [
    "### Q5 - Ecrire un programme qui demande à l’utilisateur les coordonnées de deux points dans le plan et qui calcul et puis affiche la distance entre ces points selon la formule."
   ]
  },
  {
   "cell_type": "markdown",
   "id": "2a320b9e",
   "metadata": {},
   "source": [
    "Pour répondre à cette question j'ai utilisé:\n",
    "+ la fonction distance ayant comme paramètres les coordonnées des deux points et retournant leur distance"
   ]
  },
  {
   "cell_type": "code",
   "execution_count": 7,
   "id": "4d8e77a5",
   "metadata": {},
   "outputs": [
    {
     "name": "stdout",
     "output_type": "stream",
     "text": [
      "Entrez l'abscisse du premier point : 5\n",
      "Entrez l'ordonnée du premier point : 9\n",
      "Entrez l'abscisse du second point : 1\n",
      "Entrez l'ordonnée du second point : 4\n",
      "La distance entre les points (5.0,9.0) et (1.0,4.0) est 6.403\n"
     ]
    }
   ],
   "source": [
    "import math\n",
    "\n",
    "\n",
    "def distance(x1, y1, x2, y2):\n",
    "    \"Calcul la distance entre deux points\"\n",
    "    return math.sqrt(((x2-x1)**2)+((y2-y1)**2))\n",
    "\n",
    "\n",
    "if __name__ == '__main__':\n",
    "    x1 = float(input(\"Entrez l'abscisse du premier point : \"))\n",
    "    y1 = float(input(\"Entrez l'ordonnée du premier point : \"))\n",
    "    x2 = float(input(\"Entrez l'abscisse du second point : \"))\n",
    "    y2 = float(input(\"Entrez l'ordonnée du second point : \"))\n",
    "    print(f\"La distance entre les points ({x1},{y1}) et ({x2},{y2}) est {distance(x1,y1,x2,y2):.3f}\")"
   ]
  },
  {
   "cell_type": "markdown",
   "id": "97c1ea29",
   "metadata": {},
   "source": [
    "Voici mon test (chaque puce correspond à une ligne de code):"
   ]
  },
  {
   "cell_type": "markdown",
   "id": "c5b92fd2",
   "metadata": {},
   "source": [
    "+ Entrez l'abscisse du premier point : 5\n",
    "+ Entrez l'ordonnée du premier point : 9\n",
    "+ Entrez l'abscisse du second point : 1\n",
    "+ Entrez l'ordonnée du second point : 4\n",
    "+ La distance entre les points (5.0,9.0) et (1.0,4.0) est 6.403"
   ]
  },
  {
   "cell_type": "markdown",
   "id": "20f94050",
   "metadata": {},
   "source": [
    "### Q6 - Déclarer un tableau avec ses valeurs [7, 5, 4, 9, 3] , et de les trier par ordre croissant."
   ]
  },
  {
   "cell_type": "markdown",
   "id": "29cdc5f9",
   "metadata": {},
   "source": [
    "Pour répondre à cette question j'ai utilisé:\n",
    "+ la fonction tri permettant de faire un tri à bulle comparant les valeurs deux à deux, et balayant le tableau jusqu'à ce que tous les éléments soient triés"
   ]
  },
  {
   "cell_type": "code",
   "execution_count": 8,
   "id": "6c376f49",
   "metadata": {},
   "outputs": [
    {
     "name": "stdout",
     "output_type": "stream",
     "text": [
      "[7, 5, 4, 9, 3]\n",
      "[3, 4, 5, 7, 9]\n"
     ]
    }
   ],
   "source": [
    "def tri(tab):\n",
    "    test = True\n",
    "    while test:\n",
    "        test = False\n",
    "        for i in range(len(tab)-1):\n",
    "            if tab[i+1] < tab[i]:\n",
    "                tab[i+1], tab[i] = tab[i], tab[i+1]\n",
    "                test = True\n",
    "\n",
    "\n",
    "if __name__ == \"__main__\":\n",
    "    tab =[7, 5, 4, 9, 3]\n",
    "    print(tab)\n",
    "    tri(tab)\n",
    "    print(tab)"
   ]
  }
 ],
 "metadata": {
  "kernelspec": {
   "display_name": "Python 3 (ipykernel)",
   "language": "python",
   "name": "python3"
  },
  "language_info": {
   "codemirror_mode": {
    "name": "ipython",
    "version": 3
   },
   "file_extension": ".py",
   "mimetype": "text/x-python",
   "name": "python",
   "nbconvert_exporter": "python",
   "pygments_lexer": "ipython3",
   "version": "3.9.13"
  }
 },
 "nbformat": 4,
 "nbformat_minor": 5
}
