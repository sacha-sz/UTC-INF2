{
 "cells": [
  {
   "cell_type": "markdown",
   "id": "0748665a",
   "metadata": {},
   "source": [
    "# TP2 - INF2"
   ]
  },
  {
   "cell_type": "markdown",
   "id": "2bba1488",
   "metadata": {},
   "source": [
    "### Q1 - Un mot est un palindrome si on peut le lire dans les deux sens de gauche à droite et de droite à gauche. Exemple kayak est un palindrome. Ecrire une fonction récursive permettant de vérifier si un mot est un palindrome. "
   ]
  },
  {
   "cell_type": "markdown",
   "id": "696ce9ae",
   "metadata": {},
   "source": [
    "Nous avons codé la fonction ispalindrome(word), prenant en paramètre un mot ayant potentiellement une ou des majuscule(s). Ce mot est convertit en celui-ci sans sa / ses majuscule(s). La fonction va de manière récursive vérifier le fait que le mot soit un palindrome. Nous allons d'abord vérifier la taille du mot (si = à 0 ou à 1, le mot est considéré comme un palindrome), puis nous allons vérifier les bords de celui-ci (s'ils sont différents le mot n'est pas un palindrome, ex : kayak retournera True et kayaks retournera False), enfin nous allons appeler la fonction de manière récursive pour le mot amputé de ses bords (en effet, dans ce cas le mot est de taille >= à 2 et ses bords sont égaux)."
   ]
  },
  {
   "cell_type": "code",
   "execution_count": 1,
   "id": "062a6300",
   "metadata": {},
   "outputs": [
    {
     "name": "stdout",
     "output_type": "stream",
     "text": [
      "Entrez un mot : kayak\n",
      "True\n"
     ]
    }
   ],
   "source": [
    "def ispalindrome(word):\n",
    "    \"Retourne un booléen pour savoir si un mot est un palindrome\"\n",
    "    word = word.lower() # Mise en minuscule du mot (évite l'erreur : Kayak qui retournerais False)\n",
    "    if len(word) == 1 or len(word) == 0: # \"p\" est un palindrome de même pour \"\"\n",
    "        return True\n",
    "    if word[0] != word[len(word)-1]: # Vérifie si la première et dernière lettre sont différentes\n",
    "        return False\n",
    "    return ispalindrome(word[1:len(word)-1]) \n",
    "    \"\"\"\n",
    "    Si la première et dernière lettre sont = et que le mot fait au moins 2 caractères, appelle de manière \n",
    "    récursive le mot amputé de sa 1ère et de sa dernière lettre\n",
    "    \"\"\"\n",
    "    \n",
    "    \n",
    "if __name__ == \"__main__\":\n",
    "    palindrome = input(\"Entrez un mot : \")\n",
    "    print(ispalindrome(palindrome)) "
   ]
  },
  {
   "cell_type": "markdown",
   "id": "7c7255d2",
   "metadata": {},
   "source": [
    "Test de vérité :\n",
    "+ Entrez un mot : kayak\n",
    "+ True\n",
    "\n",
    "Test d'un mot non palindrome :\n",
    "+ Entrez un mot : info\n",
    "+ False"
   ]
  },
  {
   "cell_type": "markdown",
   "id": "7680deca",
   "metadata": {},
   "source": [
    "### Q2 - Ecrire un programme qui consiste à décaler les lettres d’un message pour le rendre illisible. Ainsi les A deviennent des B, les B des C, etc. Et les Z deviennent des A. Vous devrez mettre en place la fonction “crypter(ch )” qui retournera la chaine crypter, ch est la chaine que l’utilisateur saisira."
   ]
  },
  {
   "cell_type": "markdown",
   "id": "bf90de80",
   "metadata": {},
   "source": [
    "Nous avons codé la fonction cryoter(ch), prenant en paramètre une chaîne de caractère (avec ses majuscule, mais sans accent). La fonction va retourner la chaîne crypter. Nous allons parcourir la chaîne de caractère, caractère par caractère. On étudiera le caractère selon 3 cas :\n",
    "1. c'est une lettre comprise entre A et Z (z exlus) : nous ajoutons la lettre suivante à la chaîne crypter\n",
    "2. c'est soit la lettre Z soit z : nous ajoutons la lettre A (ou a) à la chaîne crypter\n",
    "3. ce n'est pas une lettre : nous ajoutons le caractère tel quel à la chaîne crypter"
   ]
  },
  {
   "cell_type": "code",
   "execution_count": 7,
   "id": "d26d0a42",
   "metadata": {
    "scrolled": true
   },
   "outputs": [
    {
     "name": "stdout",
     "output_type": "stream",
     "text": [
      "Entrez un message à crypter : Enigma a ete cracke\n",
      "Fojhnb b fuf dsbdlf\n"
     ]
    }
   ],
   "source": [
    "def crypter(ch):\n",
    "    \"\"\"\n",
    "    Fonction permettant de crypter la chaine de caractère par chiffrement de Cesar d'ordre 1\n",
    "    \"\"\"\n",
    "    ch_crypter = \"\"\n",
    "    for car in ch: # Parcours l'itérable ch (qui est le message à chiffrer)\n",
    "        if ord(\"A\") <= ord(car) < ord(\"Z\") or ord(\"a\") <= ord(car) < ord(\"z\"): # Ajoute à la chaîne crypter la lettre suivante\n",
    "            ch_crypter += chr(ord(car) + 1)\n",
    "        elif ord(car) == ord(\"Z\") or ord(car) == ord(\"z\"): # Traite le cas particulier de Z (retour à la lettre A)\n",
    "            ch_crypter += chr(ord(car) - 25)\n",
    "        else:\n",
    "            ch_crypter += car\n",
    "    return ch_crypter\n",
    "\n",
    "\n",
    "if __name__ == \"__main__\":\n",
    "    temp = input('Entrez un message à crypter : ')\n",
    "    print(crypter(temp))"
   ]
  },
  {
   "cell_type": "markdown",
   "id": "346eb85d",
   "metadata": {},
   "source": [
    "Test de fonctionnement :\n",
    "+ Entrez un message à crypter : Enigma a ete cracke\n",
    "+ Fojhnb b fuf dsbdlf"
   ]
  },
  {
   "cell_type": "markdown",
   "id": "5fe17ef0",
   "metadata": {},
   "source": [
    "### Q3 - Un administrateur d’un site web veut assurer un maximum de sécurité pour les utilisateurs du site. Pour ceci il décide de réaliser une application qui évalue la force des mots de passe des différents utilisateur du site, sachant qu’un mot de passe est une chaine de caractères qui ne comporte pas d’espaces. La force d’un mot de passe varie, selon la valeur d’un score calculé, de ‘Très faible’ à ‘Très fort’ :"
   ]
  },
  {
   "cell_type": "markdown",
   "id": "c2186afe",
   "metadata": {},
   "source": [
    "Dans cet exercice nous allons coder une serie de fonctions ( NBMin, NBMaj,NBAlpha, LongMin, LongMaj) qui seront par la suite appellées dans une fonction finale (Score) dont le but est de retourner la force d'un mot de passe et son score rentré par l'utilisateur.\n",
    "1. NBMin (NBMaj) est une fonction retournant le nombre de caractères minuscules (majuscules). Pour cela on initialisera un compteur nbMin(nbMaj) auquel on ajoutera 1 si le caractère est une minuscule (majuscule)\n",
    "2. NBAAlpha est une fonction nous permettant de retourner le nombre de caractère non alphabetiques, pris en compte dans le score final. Pour cela on testera leur non appartenance aux alphabets (majuscule/minuscule) grâce à la table ASCII.\n",
    "3. LongMaj (LongMin) est une fonction retournant la longueur de la plus longue séquence de lettres majuscules (minuscules). On testera leur appartenances aux alphabets (majuscule/minuscule) grâce à la table ASCII.\n",
    "4. La dernière fonction Score affiche le score du mot de passe en combinant l'ensemble des fonctions codées precedemment dont certaines seront consideré comme des bonus et d'autre comme des penalités (prise en compte d'un facteur de multiplication imposé par l'enoncé)"
   ]
  },
  {
   "cell_type": "code",
   "execution_count": 8,
   "id": "ceb7b81b",
   "metadata": {
    "scrolled": true
   },
   "outputs": [
    {
     "name": "stdout",
     "output_type": "stream",
     "text": [
      "Entrez le mot de passe à tester : azerty12345\n",
      "Très fort, score : 94\n"
     ]
    }
   ],
   "source": [
    "def NBMin(password):\n",
    "    \"\"\"\n",
    "    password: mot de passe sous forme de chaîne de caractère retourne le nombre de minuscules\n",
    "    \"\"\"\n",
    "    nbMin = 0\n",
    "    for ch in password: # Balaye le mot de passe caractère par caractère\n",
    "        if ord(\"a\") <= ord(ch) <= ord(\"z\"): # Calcul le nombre de minuscule\n",
    "            nbMin += 1\n",
    "    return nbMin\n",
    "\n",
    "\n",
    "def NBMaj(password):\n",
    "    \"\"\"\n",
    "    password: mot de passe sous forme de chaîne de caractère retourne le nombre de majuscules\n",
    "    \"\"\"\n",
    "    nbMaj = 0\n",
    "    for ch in password: # Balaye le mot de passe caractère par caractère\n",
    "        if ord(\"A\") <= ord(ch) <= ord(\"Z\"): # Calcul le nombre de majuscule\n",
    "            nbMaj += 1\n",
    "    return nbMaj\n",
    "\n",
    "\n",
    "def NBAlpha(password):\n",
    "    \"\"\"\n",
    "    password: mot de passe sous forme de chaîne de caractère retourne le nombre de caractères non alphabétiques\n",
    "    \"\"\"\n",
    "    nbNonAlpha = 0\n",
    "    for ch in password:  # Balaye le mot de passe caractère par caractère\n",
    "        if (not (ord(\"A\") <= ord(ch) <= ord(\"Z\"))) and (not (ord(\"a\") <= ord(ch) <= ord(\"z\"))): # Calcul le nombre de caractère non alphabétique\n",
    "            nbNonAlpha += 1\n",
    "    return nbNonAlpha\n",
    "\n",
    "\n",
    "def LongMin(password):\n",
    "    \"\"\"\n",
    "    password: mot de passe sous forme de chaîne de caractère retourne la longueur de la plus longue séquence\n",
    "    \"\"\"\n",
    "    longMin = 0\n",
    "    compteur = 0\n",
    "    i = 0\n",
    "    while i <= len(password) - 1:\n",
    "        if ord(\"a\") <= ord(password[i]) <= ord(\"z\"):\n",
    "            compteur += 1\n",
    "        else:\n",
    "            if compteur > longMin:\n",
    "                longMin = compteur\n",
    "            compteur = 0\n",
    "        i += 1\n",
    "    if compteur > longMin:\n",
    "        longMin = compteur\n",
    "    return longMin\n",
    "\n",
    "\n",
    "def LongMaj(password):\n",
    "    \"\"\"\n",
    "    password: mot de passe sous forme de chaîne de caractère retourne la longueur de la plus longue séquence de majuscules\n",
    "    \"\"\"\n",
    "    longMaj = 0\n",
    "    compteur = 0\n",
    "    i = 0\n",
    "    while i <= len(password) - 1:\n",
    "        if ord(\"A\") <= ord(password[i]) <= ord(\"Z\"):\n",
    "            compteur += 1\n",
    "        else:\n",
    "            if compteur > longMaj:\n",
    "                longMaj = compteur\n",
    "            compteur = 0\n",
    "        i += 1\n",
    "    if compteur > longMaj:\n",
    "        longMaj = compteur\n",
    "    return longMaj\n",
    "\n",
    "\n",
    "def score(password):\n",
    "    \"\"\"\n",
    "    password: mot de passe sous forme de chaîne de caractère affiche la force du mot de passe\n",
    "    \"\"\"\n",
    "    score_password = (len(password) * 4) + ((len(password) - NBMaj(password)) * 2) + ((len(password) - NBMin(password)) * 3) + NBAlpha(password) * 5\n",
    "    score_password -= ((LongMin(password) * 2) + (LongMaj(password) * 3))\n",
    "    if score_password < 20:\n",
    "        print(f\"Très faible, score : {score_password}\")\n",
    "    elif score_password < 40:\n",
    "        print(f\"Faible, score : {score_password}\")\n",
    "    elif score_password < 80:\n",
    "        print(f\"Fort, score : {score_password}\")\n",
    "    else:\n",
    "        print(f\"Très fort, score : {score_password}\")\n",
    "\n",
    "\n",
    "if __name__ == \"__main__\":\n",
    "    password = input('Entrez le mot de passe à tester : ')\n",
    "    score(password)"
   ]
  },
  {
   "cell_type": "markdown",
   "id": "f6421ec6",
   "metadata": {},
   "source": [
    "+ Entrez le mot de passe à tester : azerty12345\n",
    "+ Très fort, score : 94"
   ]
  },
  {
   "cell_type": "markdown",
   "id": "5c809a3d",
   "metadata": {},
   "source": [
    "Remarques :\n",
    "+ ce test ne permet pas de vérifier si le mot de passe a déjà été piraté\n",
    "+ ne permet pas non plus une vérification par dictionnaire des mots de passe les plus utilisés\n",
    "+ le mot de passe doit, en effet, faire au moins 8 caractères avec des majuscules, minuscules, nombres et ponctuations\n",
    "+ de plus il ne prends en compte que 4 paramètres, sa fiabilité est donc restreinte\n",
    "+ néanmoins, il permet d'avoir un bon aperçu des différentes composantes d'un bon mot de passe \n",
    ": ) "
   ]
  }
 ],
 "metadata": {
  "kernelspec": {
   "display_name": "Python 3 (ipykernel)",
   "language": "python",
   "name": "python3"
  },
  "language_info": {
   "codemirror_mode": {
    "name": "ipython",
    "version": 3
   },
   "file_extension": ".py",
   "mimetype": "text/x-python",
   "name": "python",
   "nbconvert_exporter": "python",
   "pygments_lexer": "ipython3",
   "version": "3.9.13"
  }
 },
 "nbformat": 4,
 "nbformat_minor": 5
}
